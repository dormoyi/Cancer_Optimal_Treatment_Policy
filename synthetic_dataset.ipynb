{
 "cells": [
  {
   "cell_type": "code",
   "execution_count": 1,
   "metadata": {},
   "outputs": [
    {
     "data": {
      "text/plain": [
       "dict_keys(['cancer_volume', 'chemo_dosage', 'radio_dosage', 'chemo_application', 'radio_application', 'chemo_probabilities', 'radio_probabilities', 'sequence_lengths', 'patient_types'])"
      ]
     },
     "execution_count": 1,
     "metadata": {},
     "output_type": "execute_result"
    }
   ],
   "source": [
    "import pickle\n",
    "import os\n",
    "import numpy as np\n",
    "\n",
    "# Assuming the script is located in the same directory as the 'results' folder\n",
    "folder_path = os.path.join('..', 'Counterfactual-Recurrent-Network-master', 'results')\n",
    "file_name = 'new_cancer_sim_2_2.p'\n",
    "path = os.path.join(folder_path, file_name)\n",
    "\n",
    "with open(path, 'rb') as f:\n",
    "    results = pickle.load(f)\n",
    "\n",
    "results['training_data'].keys()"
   ]
  },
  {
   "cell_type": "code",
   "execution_count": 90,
   "metadata": {},
   "outputs": [
    {
     "data": {
      "text/plain": [
       "array([[0.        , 0.        , 0.        , ..., 5.78341248, 2.89170624,\n",
       "        0.        ],\n",
       "       [0.        , 5.        , 7.5       , ..., 1.25261801, 0.626309  ,\n",
       "        0.        ],\n",
       "       [5.        , 7.5       , 8.75      , ..., 0.31801704, 5.15900852,\n",
       "        0.        ],\n",
       "       ...,\n",
       "       [0.        , 5.        , 2.5       , ..., 3.75259399, 1.876297  ,\n",
       "        0.        ],\n",
       "       [5.        , 7.5       , 8.75      , ..., 2.08256474, 1.04128237,\n",
       "        0.        ],\n",
       "       [5.        , 7.5       , 3.75      , ..., 0.22341165, 5.11170582,\n",
       "        0.        ]])"
      ]
     },
     "execution_count": 90,
     "metadata": {},
     "output_type": "execute_result"
    }
   ],
   "source": [
    "results['training_data']['chemo_dosage']"
   ]
  },
  {
   "cell_type": "code",
   "execution_count": 2,
   "metadata": {},
   "outputs": [
    {
     "data": {
      "text/plain": [
       "dict_keys(['chemo_coeff', 'radio_coeff', 'num_time_steps', 'training_data', 'validation_data', 'test_data', 'test_data_factuals', 'test_data_seq', 'scaling_data', 'window_size'])"
      ]
     },
     "execution_count": 2,
     "metadata": {},
     "output_type": "execute_result"
    }
   ],
   "source": [
    "results.keys()"
   ]
  },
  {
   "cell_type": "code",
   "execution_count": 3,
   "metadata": {},
   "outputs": [
    {
     "data": {
      "text/plain": [
       "dict_keys(['chemo_coeff', 'radio_coeff', 'num_time_steps', 'training_data', 'validation_data', 'test_data', 'test_data_factuals', 'test_data_seq', 'scaling_data', 'window_size'])"
      ]
     },
     "execution_count": 3,
     "metadata": {},
     "output_type": "execute_result"
    }
   ],
   "source": [
    "results.keys()"
   ]
  },
  {
   "cell_type": "code",
   "execution_count": 4,
   "metadata": {},
   "outputs": [
    {
     "data": {
      "text/plain": [
       "15"
      ]
     },
     "execution_count": 4,
     "metadata": {},
     "output_type": "execute_result"
    }
   ],
   "source": [
    "results['window_size']"
   ]
  },
  {
   "cell_type": "code",
   "execution_count": 5,
   "metadata": {},
   "outputs": [
    {
     "data": {
      "text/plain": [
       "{'cancer_volume': array([[4.71217515e-01, 5.06400323e-01, 5.43179658e-01, ...,\n",
       "         7.11407695e-05, 7.05711099e-05, 7.69828742e-05],\n",
       "        [2.71304782e-01, 2.88086948e-01, 2.70221091e-01, ...,\n",
       "         5.90135854e-05, 3.66012132e-05, 4.01814759e-05],\n",
       "        [1.01239897e+01, 2.66929117e+00, 2.46726072e+00, ...,\n",
       "         1.02825133e-04, 1.32674492e-04, 1.53112644e-04],\n",
       "        ...,\n",
       "        [1.67623368e-01, 1.74442089e-01, 1.07084173e-01, ...,\n",
       "         1.58321241e-04, 1.48635422e-04, 1.09569948e-04],\n",
       "        [5.92887511e+01, 3.20277834e+01, 2.55101156e+01, ...,\n",
       "         1.27556054e-05, 1.24182900e-05, 1.25323189e-05],\n",
       "        [1.76862557e+02, 1.52802211e+02, 1.21072051e+02, ...,\n",
       "         1.03277449e-01, 1.03837994e-01, 8.86048711e-02]]),\n",
       " 'chemo_dosage': array([[0.        , 0.        , 0.        , ..., 5.78341248, 2.89170624,\n",
       "         0.        ],\n",
       "        [0.        , 5.        , 7.5       , ..., 1.25261801, 0.626309  ,\n",
       "         0.        ],\n",
       "        [5.        , 7.5       , 8.75      , ..., 0.31801704, 5.15900852,\n",
       "         0.        ],\n",
       "        ...,\n",
       "        [0.        , 5.        , 2.5       , ..., 3.75259399, 1.876297  ,\n",
       "         0.        ],\n",
       "        [5.        , 7.5       , 8.75      , ..., 2.08256474, 1.04128237,\n",
       "         0.        ],\n",
       "        [5.        , 7.5       , 3.75      , ..., 0.22341165, 5.11170582,\n",
       "         0.        ]]),\n",
       " 'radio_dosage': array([[0., 0., 0., ..., 0., 0., 0.],\n",
       "        [0., 0., 2., ..., 2., 0., 0.],\n",
       "        [2., 0., 0., ..., 0., 0., 0.],\n",
       "        ...,\n",
       "        [0., 2., 0., ..., 0., 2., 0.],\n",
       "        [2., 0., 0., ..., 0., 0., 0.],\n",
       "        [2., 2., 0., ..., 2., 0., 0.]]),\n",
       " 'chemo_application': array([[0., 0., 0., ..., 1., 0., 0.],\n",
       "        [0., 1., 1., ..., 0., 0., 0.],\n",
       "        [1., 1., 1., ..., 0., 1., 0.],\n",
       "        ...,\n",
       "        [0., 1., 0., ..., 0., 0., 0.],\n",
       "        [1., 1., 1., ..., 0., 0., 0.],\n",
       "        [1., 1., 0., ..., 0., 1., 0.]]),\n",
       " 'radio_application': array([[0., 0., 0., ..., 0., 0., 0.],\n",
       "        [0., 0., 1., ..., 1., 0., 0.],\n",
       "        [1., 0., 0., ..., 0., 0., 0.],\n",
       "        ...,\n",
       "        [0., 1., 0., ..., 0., 1., 0.],\n",
       "        [1., 0., 0., ..., 0., 0., 0.],\n",
       "        [1., 1., 0., ..., 1., 0., 0.]]),\n",
       " 'chemo_probabilities': array([[0.29912554, 0.29950392, 0.29988183, ..., 0.27101425, 0.27090718,\n",
       "         0.        ],\n",
       "        [0.29391772, 0.29417689, 0.29407908, ..., 0.27096572, 0.27089165,\n",
       "         0.        ],\n",
       "        [0.35730623, 0.34048191, 0.33445063, ..., 0.27117043, 0.27111601,\n",
       "         0.        ],\n",
       "        ...,\n",
       "        [0.2901294 , 0.29027442, 0.28922443, ..., 0.27169557, 0.27158666,\n",
       "         0.        ],\n",
       "        [0.43641957, 0.41951447, 0.41034362, ..., 0.2709684 , 0.27083293,\n",
       "         0.        ],\n",
       "        [0.5178511 , 0.51148512, 0.50301489, ..., 0.29408047, 0.29309112,\n",
       "         0.        ]]),\n",
       " 'radio_probabilities': array([[0.29912554, 0.29950392, 0.29988183, ..., 0.27101425, 0.27090718,\n",
       "         0.        ],\n",
       "        [0.29391772, 0.29417689, 0.29407908, ..., 0.27096572, 0.27089165,\n",
       "         0.        ],\n",
       "        [0.35730623, 0.34048191, 0.33445063, ..., 0.27117043, 0.27111601,\n",
       "         0.        ],\n",
       "        ...,\n",
       "        [0.2901294 , 0.29027442, 0.28922443, ..., 0.27169557, 0.27158666,\n",
       "         0.        ],\n",
       "        [0.43641957, 0.41951447, 0.41034362, ..., 0.2709684 , 0.27083293,\n",
       "         0.        ],\n",
       "        [0.5178511 , 0.51148512, 0.50301489, ..., 0.29408047, 0.29309112,\n",
       "         0.        ]]),\n",
       " 'sequence_lengths': array([59., 59., 59., ..., 59., 59., 59.]),\n",
       " 'patient_types': array([2, 2, 2, ..., 2, 2, 2])}"
      ]
     },
     "execution_count": 5,
     "metadata": {},
     "output_type": "execute_result"
    }
   ],
   "source": [
    "results['training_data']"
   ]
  },
  {
   "cell_type": "code",
   "execution_count": 6,
   "metadata": {},
   "outputs": [
    {
     "data": {
      "text/plain": [
       "60"
      ]
     },
     "execution_count": 6,
     "metadata": {},
     "output_type": "execute_result"
    }
   ],
   "source": [
    "assert len(results['training_data']['cancer_volume'][0]) == len(results['training_data']['chemo_dosage'][0])\n",
    "len(results['training_data']['cancer_volume'][0])"
   ]
  },
  {
   "cell_type": "code",
   "execution_count": 7,
   "metadata": {},
   "outputs": [
    {
     "data": {
      "text/plain": [
       "<BarContainer object of 60 artists>"
      ]
     },
     "execution_count": 7,
     "metadata": {},
     "output_type": "execute_result"
    },
    {
     "data": {
      "image/png": "[encoded data removed]",
      "text/plain": [
       "<Figure size 432x288 with 1 Axes>"
      ]
     },
     "metadata": {
      "needs_background": "light"
     },
     "output_type": "display_data"
    }
   ],
   "source": [
    "results['training_data']['chemo_probabilities']\n",
    "# show on a bar diagram when higher probability of chemo in the 60 timesteps\n",
    "import matplotlib.pyplot as plt\n",
    "import numpy as np\n",
    "plt.bar(np.arange(60), results['training_data']['chemo_probabilities'].sum())"
   ]
  },
  {
   "cell_type": "code",
   "execution_count": 8,
   "metadata": {},
   "outputs": [
    {
     "data": {
      "text/plain": [
       "Text(0.5, 1.0, 'Number of patients of the dataset  having chemo at each timestep')"
      ]
     },
     "execution_count": 8,
     "metadata": {},
     "output_type": "execute_result"
    },
    {
     "data": {
      "image/png": "[encoded data removed]",
      "text/plain": [
       "<Figure size 432x288 with 1 Axes>"
      ]
     },
     "metadata": {
      "needs_background": "light"
     },
     "output_type": "display_data"
    }
   ],
   "source": [
    "results['training_data']['chemo_application']\n",
    "all_chemo = results['training_data']['chemo_application'].sum(axis=0)\n",
    "# plot number of persons having chemo at each timestep\n",
    "plt.bar(np.arange(60), all_chemo)\n",
    "plt.xlabel('Timestep')\n",
    "plt.ylabel('Number of patients')\n",
    "plt.title('Number of patients of the dataset  having chemo at each timestep')"
   ]
  },
  {
   "cell_type": "code",
   "execution_count": 9,
   "metadata": {},
   "outputs": [
    {
     "data": {
      "text/plain": [
       "Text(0.5, 1.0, 'Number of patients of the dataset  having radio at each timestep')"
      ]
     },
     "execution_count": 9,
     "metadata": {},
     "output_type": "execute_result"
    },
    {
     "data": {
      "image/png": "[encoded data removed]",
      "text/plain": [
       "<Figure size 432x288 with 1 Axes>"
      ]
     },
     "metadata": {
      "needs_background": "light"
     },
     "output_type": "display_data"
    }
   ],
   "source": [
    "# do the same for radio\n",
    "plt.bar(np.arange(60), results['training_data']['radio_application'].sum(axis=0))\n",
    "plt.xlabel('Timestep')\n",
    "plt.ylabel('Number of patients')\n",
    "plt.title('Number of patients of the dataset  having radio at each timestep')\n"
   ]
  },
  {
   "cell_type": "code",
   "execution_count": 10,
   "metadata": {},
   "outputs": [
    {
     "data": {
      "text/plain": [
       "{'whiskers': [<matplotlib.lines.Line2D at 0x1be03ffeeb8>,\n",
       "  <matplotlib.lines.Line2D at 0x1be0400f198>,\n",
       "  <matplotlib.lines.Line2D at 0x1be0401f358>,\n",
       "  <matplotlib.lines.Line2D at 0x1be0401f630>,\n",
       "  <matplotlib.lines.Line2D at 0x1be04029780>,\n",
       "  <matplotlib.lines.Line2D at 0x1be04029a58>],\n",
       " 'caps': [<matplotlib.lines.Line2D at 0x1be0400f4a8>,\n",
       "  <matplotlib.lines.Line2D at 0x1be0400f780>,\n",
       "  <matplotlib.lines.Line2D at 0x1be0401f908>,\n",
       "  <matplotlib.lines.Line2D at 0x1be0401fbe0>,\n",
       "  <matplotlib.lines.Line2D at 0x1be04029d30>,\n",
       "  <matplotlib.lines.Line2D at 0x1be0403c048>],\n",
       " 'boxes': [<matplotlib.lines.Line2D at 0x1be03ffec50>,\n",
       "  <matplotlib.lines.Line2D at 0x1be0401f080>,\n",
       "  <matplotlib.lines.Line2D at 0x1be040293c8>],\n",
       " 'medians': [<matplotlib.lines.Line2D at 0x1be0400fa58>,\n",
       "  <matplotlib.lines.Line2D at 0x1be0401feb8>,\n",
       "  <matplotlib.lines.Line2D at 0x1be0403c320>],\n",
       " 'fliers': [<matplotlib.lines.Line2D at 0x1be0400fd30>,\n",
       "  <matplotlib.lines.Line2D at 0x1be040291d0>,\n",
       "  <matplotlib.lines.Line2D at 0x1be0403c5f8>],\n",
       " 'means': []}"
      ]
     },
     "execution_count": 10,
     "metadata": {},
     "output_type": "execute_result"
    },
    {
     "data": {
      "image/png": "[encoded data removed]",
      "text/plain": [
       "<Figure size 432x288 with 1 Axes>"
      ]
     },
     "metadata": {
      "needs_background": "light"
     },
     "output_type": "display_data"
    }
   ],
   "source": [
    "# boxplots of how many chemo and radio per person on the same graph, and how many procedures per person\n",
    "plt.boxplot([results['training_data']['chemo_application'].sum(axis=1), results['training_data']['radio_application'].sum(axis=1), results['training_data']['chemo_application'].sum(axis=1) + results['training_data']['radio_application'].sum(axis=1)])\n"
   ]
  },
  {
   "cell_type": "code",
   "execution_count": 11,
   "metadata": {},
   "outputs": [
    {
     "data": {
      "image/png": "[encoded data removed]",
      "text/plain": [
       "<Figure size 576x720 with 1 Axes>"
      ]
     },
     "metadata": {
      "needs_background": "light"
     },
     "output_type": "display_data"
    }
   ],
   "source": [
    "import matplotlib.pyplot as plt\n",
    "\n",
    "# Data for the boxplots\n",
    "data = [\n",
    "    results['training_data']['chemo_application'].sum(axis=1),\n",
    "    results['training_data']['radio_application'].sum(axis=1),\n",
    "    results['training_data']['chemo_application'].sum(axis=1) + results['training_data']['radio_application'].sum(axis=1)\n",
    "]\n",
    "\n",
    "# Boxplot names\n",
    "box_names = ['Chemo', 'Radio', 'Chemo + Radio']\n",
    "\n",
    "# Creating a figure with a taller height\n",
    "fig, ax = plt.subplots(figsize=(8, 10))  # Adjust the width and height according to your preference\n",
    "\n",
    "# Creating a boxplot with outliers colored\n",
    "boxplot = ax.boxplot(data, patch_artist=True, showfliers=True)\n",
    "\n",
    "# Adding colors to the boxes and outliers\n",
    "colors = ['lightblue', 'lightgreen', 'lightyellow']\n",
    "for patch, color in zip(boxplot['boxes'], colors):\n",
    "    patch.set_facecolor(color)\n",
    "\n",
    "# Adding labels and title\n",
    "plt.ylabel('Number of Procedures per person')\n",
    "plt.xticks([1, 2, 3], box_names)\n",
    "plt.title('Number of Chemo, Radio, and Combined Procedures per Person')\n",
    "\n",
    "# Show the plot\n",
    "plt.show()\n",
    "\n",
    "\n"
   ]
  },
  {
   "cell_type": "code",
   "execution_count": 12,
   "metadata": {},
   "outputs": [
    {
     "name": "stdout",
     "output_type": "stream",
     "text": [
      "[[2 1 3 1 0 3 2 1 2 1 0 2 3 3 0 1 0 3 1 3 1 2 2 3 1 0 1 1 1 1 0 2 1 1 2 1\n",
      "  2 1 0 3 1 1 3 1 3 3 2 1 2 3 1 1 3 2 3 0 3 0 3 3]\n",
      " [2 0 1 1 1 1 2 1 0 1 0 2 0 2 3 3 2 3 3 0 0 3 3 3 0 2 0 1 3 2 3 2 3 0 1 1\n",
      "  3 3 1 1 2 3 3 1 2 1 1 3 2 0 2 3 1 0 2 1 2 1 0 3]]\n"
     ]
    }
   ],
   "source": [
    "import numpy as np\n",
    "\n",
    "timesteps = 60\n",
    "options = 4\n",
    "\n",
    "num_policies = 10000\n",
    "random_policies = np.random.randint(0, options, size=(num_policies, timesteps))\n",
    "print(random_policies[:2])\n",
    "\n",
    "# 0: no treatment, 1: chemo, 2: radio, 3: both\n"
   ]
  },
  {
   "cell_type": "code",
   "execution_count": 13,
   "metadata": {},
   "outputs": [],
   "source": [
    "# map the policies present in the dataset to sequences of actions\n",
    "# 0: no treatment, 1: chemo, 2: radio, 3: both\n",
    "\n",
    "def map_policies_to_actions(policies):\n",
    "    actions = []\n",
    "    for policy in policies:\n",
    "        actions.append([0 if policy[i] == 0 else 1 if policy[i] == 1 else 2 if policy[i] == 2 else 3 for i in range(len(policy))])\n",
    "    return actions"
   ]
  },
  {
   "cell_type": "markdown",
   "metadata": {},
   "source": [
    "# Take a look at test data"
   ]
  },
  {
   "cell_type": "code",
   "execution_count": 14,
   "metadata": {},
   "outputs": [
    {
     "data": {
      "text/plain": [
       "dict_keys(['cancer_volume', 'chemo_dosage', 'radio_dosage', 'chemo_application', 'radio_application', 'chemo_probabilities', 'radio_probabilities', 'sequence_lengths', 'patient_types'])"
      ]
     },
     "execution_count": 14,
     "metadata": {},
     "output_type": "execute_result"
    }
   ],
   "source": [
    "dat = results['test_data_factuals']\n",
    "dat.keys()"
   ]
  },
  {
   "cell_type": "code",
   "execution_count": 15,
   "metadata": {},
   "outputs": [
    {
     "data": {
      "text/plain": [
       "(1000, 60)"
      ]
     },
     "execution_count": 15,
     "metadata": {},
     "output_type": "execute_result"
    }
   ],
   "source": [
    "dat['cancer_volume'].shape"
   ]
  },
  {
   "cell_type": "code",
   "execution_count": 86,
   "metadata": {},
   "outputs": [
    {
     "data": {
      "text/plain": [
       "array([ 1.,  1.,  1.,  1.,  1.,  1.,  1.,  1.,  1.,  1.,  1.,  1.,  1.,\n",
       "        1.,  1.,  2.,  2.,  2.,  2.,  2.,  2.,  2.,  2.,  2.,  3.,  3.,\n",
       "        3.,  3.,  3.,  3.,  3.,  3.,  3.,  3.,  3.,  3.,  4.,  4.,  4.,\n",
       "        5.,  5.,  5.,  6.,  6.,  6.,  7.,  7., 10., 11., 13., 16., 19.,\n",
       "       21., 24., 32., 32., 34., 34., 36., 37., 40., 44., 44., 45., 47.,\n",
       "       47., 47., 48., 49., 49., 50., 51., 52., 52., 53., 53., 55., 56.,\n",
       "       56., 56., 57., 57., 57., 58., 58., 58., 59., 59., 59., 59., 59.,\n",
       "       59., 59., 59., 59., 59., 59., 59., 59., 59., 59., 59., 59., 59.,\n",
       "       59., 59., 59., 59., 59., 59., 59., 59., 59., 59., 59., 59., 59.,\n",
       "       59., 59., 59., 59., 59., 59., 59., 59., 59., 59., 59., 59., 59.,\n",
       "       59., 59., 59., 59., 59., 59., 59., 59., 59., 59., 59., 59., 59.,\n",
       "       59., 59., 59., 59., 59., 59., 59., 59., 59., 59., 59., 59., 59.,\n",
       "       59., 59., 59., 59., 59., 59., 59., 59., 59., 59., 59., 59., 59.,\n",
       "       59., 59., 59., 59., 59., 59., 59., 59., 59., 59., 59., 59., 59.,\n",
       "       59., 59., 59., 59., 59., 59., 59., 59., 59., 59., 59., 59., 59.,\n",
       "       59., 59., 59., 59., 59., 59., 59., 59., 59., 59., 59., 59., 59.,\n",
       "       59., 59., 59., 59., 59., 59., 59., 59., 59., 59., 59., 59., 59.,\n",
       "       59., 59., 59., 59., 59., 59., 59., 59., 59., 59., 59., 59., 59.,\n",
       "       59., 59., 59., 59., 59., 59., 59., 59., 59., 59., 59., 59., 59.,\n",
       "       59., 59., 59., 59., 59., 59., 59., 59., 59., 59., 59., 59., 59.,\n",
       "       59., 59., 59., 59., 59., 59., 59., 59., 59., 59., 59., 59., 59.,\n",
       "       59., 59., 59., 59., 59., 59., 59., 59., 59., 59., 59., 59., 59.,\n",
       "       59., 59., 59., 59., 59., 59., 59., 59., 59., 59., 59., 59., 59.,\n",
       "       59., 59., 59., 59., 59., 59., 59., 59., 59., 59., 59., 59., 59.,\n",
       "       59., 59., 59., 59., 59., 59., 59., 59., 59., 59., 59., 59., 59.,\n",
       "       59., 59., 59., 59., 59., 59., 59., 59., 59., 59., 59., 59., 59.,\n",
       "       59., 59., 59., 59., 59., 59., 59., 59., 59., 59., 59., 59., 59.,\n",
       "       59., 59., 59., 59., 59., 59., 59., 59., 59., 59., 59., 59., 59.,\n",
       "       59., 59., 59., 59., 59., 59., 59., 59., 59., 59., 59., 59., 59.,\n",
       "       59., 59., 59., 59., 59., 59., 59., 59., 59., 59., 59., 59., 59.,\n",
       "       59., 59., 59., 59., 59., 59., 59., 59., 59., 59., 59., 59., 59.,\n",
       "       59., 59., 59., 59., 59., 59., 59., 59., 59., 59., 59., 59., 59.,\n",
       "       59., 59., 59., 59., 59., 59., 59., 59., 59., 59., 59., 59., 59.,\n",
       "       59., 59., 59., 59., 59., 59., 59., 59., 59., 59., 59., 59., 59.,\n",
       "       59., 59., 59., 59., 59., 59., 59., 59., 59., 59., 59., 59., 59.,\n",
       "       59., 59., 59., 59., 59., 59., 59., 59., 59., 59., 59., 59., 59.,\n",
       "       59., 59., 59., 59., 59., 59., 59., 59., 59., 59., 59., 59., 59.,\n",
       "       59., 59., 59., 59., 59., 59., 59., 59., 59., 59., 59., 59., 59.,\n",
       "       59., 59., 59., 59., 59., 59., 59., 59., 59., 59., 59., 59., 59.,\n",
       "       59., 59., 59., 59., 59., 59., 59., 59., 59., 59., 59., 59., 59.,\n",
       "       59., 59., 59., 59., 59., 59., 59., 59., 59., 59., 59., 59., 59.,\n",
       "       59., 59., 59., 59., 59., 59., 59., 59., 59., 59., 59., 59., 59.,\n",
       "       59., 59., 59., 59., 59., 59., 59., 59., 59., 59., 59., 59., 59.,\n",
       "       59., 59., 59., 59., 59., 59., 59., 59., 59., 59., 59., 59., 59.,\n",
       "       59., 59., 59., 59., 59., 59., 59., 59., 59., 59., 59., 59., 59.,\n",
       "       59., 59., 59., 59., 59., 59., 59., 59., 59., 59., 59., 59., 59.,\n",
       "       59., 59., 59., 59., 59., 59., 59., 59., 59., 59., 59., 59., 59.,\n",
       "       59., 59., 59., 59., 59., 59., 59., 59., 59., 59., 59., 59., 59.,\n",
       "       59., 59., 59., 59., 59., 59., 59., 59., 59., 59., 59., 59., 59.,\n",
       "       59., 59., 59., 59., 59., 59., 59., 59., 59., 59., 59., 59., 59.,\n",
       "       59., 59., 59., 59., 59., 59., 59., 59., 59., 59., 59., 59., 59.,\n",
       "       59., 59., 59., 59., 59., 59., 59., 59., 59., 59., 59., 59., 59.,\n",
       "       59., 59., 59., 59., 59., 59., 59., 59., 59., 59., 59., 59., 59.,\n",
       "       59., 59., 59., 59., 59., 59., 59., 59., 59., 59., 59., 59., 59.,\n",
       "       59., 59., 59., 59., 59., 59., 59., 59., 59., 59., 59., 59., 59.,\n",
       "       59., 59., 59., 59., 59., 59., 59., 59., 59., 59., 59., 59., 59.,\n",
       "       59., 59., 59., 59., 59., 59., 59., 59., 59., 59., 59., 59., 59.,\n",
       "       59., 59., 59., 59., 59., 59., 59., 59., 59., 59., 59., 59., 59.,\n",
       "       59., 59., 59., 59., 59., 59., 59., 59., 59., 59., 59., 59., 59.,\n",
       "       59., 59., 59., 59., 59., 59., 59., 59., 59., 59., 59., 59., 59.,\n",
       "       59., 59., 59., 59., 59., 59., 59., 59., 59., 59., 59., 59., 59.,\n",
       "       59., 59., 59., 59., 59., 59., 59., 59., 59., 59., 59., 59., 59.,\n",
       "       59., 59., 59., 59., 59., 59., 59., 59., 59., 59., 59., 59., 59.,\n",
       "       59., 59., 59., 59., 59., 59., 59., 59., 59., 59., 59., 59., 59.,\n",
       "       59., 59., 59., 59., 59., 59., 59., 59., 59., 59., 59., 59., 59.,\n",
       "       59., 59., 59., 59., 59., 59., 59., 59., 59., 59., 59., 59., 59.,\n",
       "       59., 59., 59., 59., 59., 59., 59., 59., 59., 59., 59., 59., 59.,\n",
       "       59., 59., 59., 59., 59., 59., 59., 59., 59., 59., 59., 59., 59.,\n",
       "       59., 59., 59., 59., 59., 59., 59., 59., 59., 59., 59., 59., 59.,\n",
       "       59., 59., 59., 59., 59., 59., 59., 59., 59., 59., 59., 59., 59.,\n",
       "       59., 59., 59., 59., 59., 59., 59., 59., 59., 59., 59., 59., 59.,\n",
       "       59., 59., 59., 59., 59., 59., 59., 59., 59., 59., 59., 59., 59.,\n",
       "       59., 59., 59., 59., 59., 59., 59., 59., 59., 59., 59., 59., 59.,\n",
       "       59., 59., 59., 59., 59., 59., 59., 59., 59., 59., 59., 59., 59.,\n",
       "       59., 59., 59., 59., 59., 59., 59., 59., 59., 59., 59., 59., 59.,\n",
       "       59., 59., 59., 59., 59., 59., 59., 59., 59., 59., 59., 59., 59.,\n",
       "       59., 59., 59., 59., 59., 59., 59., 59., 59., 59., 59., 59.])"
      ]
     },
     "execution_count": 86,
     "metadata": {},
     "output_type": "execute_result"
    }
   ],
   "source": [
    "dat['sequence_lengths'].sort()\n",
    "dat['sequence_lengths']"
   ]
  },
  {
   "cell_type": "markdown",
   "metadata": {},
   "source": [
    "# Take a look at counterfactual test data"
   ]
  },
  {
   "cell_type": "code",
   "execution_count": 16,
   "metadata": {},
   "outputs": [
    {
     "data": {
      "text/plain": [
       "dict_keys(['cancer_volume', 'chemo_application', 'radio_application', 'sequence_lengths', 'patient_types'])"
      ]
     },
     "execution_count": 16,
     "metadata": {},
     "output_type": "execute_result"
    }
   ],
   "source": [
    "dat2 = results['test_data']\n",
    "dat2.keys()"
   ]
  },
  {
   "cell_type": "code",
   "execution_count": 22,
   "metadata": {},
   "outputs": [
    {
     "data": {
      "text/plain": [
       "array([[16.03198089, 14.51426998,  0.        , ...,  0.        ,\n",
       "         0.        ,  0.        ],\n",
       "       [16.03198089, 16.93081786,  0.        , ...,  0.        ,\n",
       "         0.        ,  0.        ],\n",
       "       [16.03198089,  8.83593895,  0.        , ...,  0.        ,\n",
       "         0.        ,  0.        ],\n",
       "       ...,\n",
       "       [38.18416688, 30.57928255, 25.0403437 , ...,  0.08870889,\n",
       "         0.08391783,  0.08040592],\n",
       "       [38.18416688, 30.57928255, 25.0403437 , ...,  0.08870889,\n",
       "         0.08391783,  0.07566095],\n",
       "       [38.18416688, 30.57928255, 25.0403437 , ...,  0.08870889,\n",
       "         0.08391783,  0.0686236 ]])"
      ]
     },
     "execution_count": 22,
     "metadata": {},
     "output_type": "execute_result"
    }
   ],
   "source": [
    "dat2['cancer_volume']"
   ]
  },
  {
   "cell_type": "code",
   "execution_count": 17,
   "metadata": {},
   "outputs": [
    {
     "name": "stdout",
     "output_type": "stream",
     "text": [
      "(218776, 60)\n"
     ]
    }
   ],
   "source": [
    "print(dat2['cancer_volume'].shape)"
   ]
  },
  {
   "cell_type": "code",
   "execution_count": 18,
   "metadata": {},
   "outputs": [
    {
     "data": {
      "text/plain": [
       "(218776, 60)"
      ]
     },
     "execution_count": 18,
     "metadata": {},
     "output_type": "execute_result"
    }
   ],
   "source": [
    "dat2['chemo_application'].shape"
   ]
  },
  {
   "cell_type": "code",
   "execution_count": 19,
   "metadata": {},
   "outputs": [
    {
     "name": "stdout",
     "output_type": "stream",
     "text": [
      "[ 1.  2.  3.  4.  5.  6.  7.  8.  9. 10. 11. 12. 13. 14. 15. 16. 17. 18.\n",
      " 19. 20. 21. 22. 23. 24. 25. 26. 27. 28. 29. 30. 31. 32. 33. 34. 35. 36.\n",
      " 37. 38. 39. 40. 41. 42. 43. 44. 45. 46. 47. 48. 49. 50. 51. 52. 53. 54.\n",
      " 55. 56. 57. 58. 59.] [4000 3940 3904 3856 3840 3816 3804 3788 3788 3784 3776 3768 3760 3756\n",
      " 3756 3748 3748 3748 3744 3744 3740 3740 3736 3736 3736 3736 3732 3732\n",
      " 3724 3724 3720 3708 3704 3700 3700 3692 3680 3672 3672 3668 3668 3664\n",
      " 3652 3652 3648 3644 3632 3628 3616 3608 3600 3580 3572 3564 3564 3548\n",
      " 3544 3540 3532]\n"
     ]
    }
   ],
   "source": [
    "unique_values, counts = np.unique(dat2['sequence_lengths'], return_counts=True)\n",
    "print(unique_values, counts)"
   ]
  },
  {
   "cell_type": "code",
   "execution_count": 20,
   "metadata": {},
   "outputs": [
    {
     "name": "stdout",
     "output_type": "stream",
     "text": [
      "(218776,)\n"
     ]
    }
   ],
   "source": [
    "print(dat2['patient_types'].shape)"
   ]
  },
  {
   "cell_type": "code",
   "execution_count": 24,
   "metadata": {},
   "outputs": [
    {
     "data": {
      "text/plain": [
       "array([[16.03198089, 14.51426998,  0.        ,  0.        ,  0.        ,\n",
       "         0.        ,  0.        ,  0.        ,  0.        ,  0.        ,\n",
       "         0.        ,  0.        ,  0.        ,  0.        ,  0.        ,\n",
       "         0.        ,  0.        ,  0.        ,  0.        ,  0.        ,\n",
       "         0.        ,  0.        ,  0.        ,  0.        ,  0.        ,\n",
       "         0.        ,  0.        ,  0.        ,  0.        ,  0.        ,\n",
       "         0.        ,  0.        ,  0.        ,  0.        ,  0.        ,\n",
       "         0.        ,  0.        ,  0.        ,  0.        ,  0.        ,\n",
       "         0.        ,  0.        ,  0.        ,  0.        ,  0.        ,\n",
       "         0.        ,  0.        ,  0.        ,  0.        ,  0.        ,\n",
       "         0.        ,  0.        ,  0.        ,  0.        ,  0.        ,\n",
       "         0.        ,  0.        ,  0.        ,  0.        ,  0.        ],\n",
       "       [16.03198089, 16.93081786,  0.        ,  0.        ,  0.        ,\n",
       "         0.        ,  0.        ,  0.        ,  0.        ,  0.        ,\n",
       "         0.        ,  0.        ,  0.        ,  0.        ,  0.        ,\n",
       "         0.        ,  0.        ,  0.        ,  0.        ,  0.        ,\n",
       "         0.        ,  0.        ,  0.        ,  0.        ,  0.        ,\n",
       "         0.        ,  0.        ,  0.        ,  0.        ,  0.        ,\n",
       "         0.        ,  0.        ,  0.        ,  0.        ,  0.        ,\n",
       "         0.        ,  0.        ,  0.        ,  0.        ,  0.        ,\n",
       "         0.        ,  0.        ,  0.        ,  0.        ,  0.        ,\n",
       "         0.        ,  0.        ,  0.        ,  0.        ,  0.        ,\n",
       "         0.        ,  0.        ,  0.        ,  0.        ,  0.        ,\n",
       "         0.        ,  0.        ,  0.        ,  0.        ,  0.        ],\n",
       "       [16.03198089,  8.83593895,  0.        ,  0.        ,  0.        ,\n",
       "         0.        ,  0.        ,  0.        ,  0.        ,  0.        ,\n",
       "         0.        ,  0.        ,  0.        ,  0.        ,  0.        ,\n",
       "         0.        ,  0.        ,  0.        ,  0.        ,  0.        ,\n",
       "         0.        ,  0.        ,  0.        ,  0.        ,  0.        ,\n",
       "         0.        ,  0.        ,  0.        ,  0.        ,  0.        ,\n",
       "         0.        ,  0.        ,  0.        ,  0.        ,  0.        ,\n",
       "         0.        ,  0.        ,  0.        ,  0.        ,  0.        ,\n",
       "         0.        ,  0.        ,  0.        ,  0.        ,  0.        ,\n",
       "         0.        ,  0.        ,  0.        ,  0.        ,  0.        ,\n",
       "         0.        ,  0.        ,  0.        ,  0.        ,  0.        ,\n",
       "         0.        ,  0.        ,  0.        ,  0.        ,  0.        ],\n",
       "       [16.03198089,  6.41939108,  0.        ,  0.        ,  0.        ,\n",
       "         0.        ,  0.        ,  0.        ,  0.        ,  0.        ,\n",
       "         0.        ,  0.        ,  0.        ,  0.        ,  0.        ,\n",
       "         0.        ,  0.        ,  0.        ,  0.        ,  0.        ,\n",
       "         0.        ,  0.        ,  0.        ,  0.        ,  0.        ,\n",
       "         0.        ,  0.        ,  0.        ,  0.        ,  0.        ,\n",
       "         0.        ,  0.        ,  0.        ,  0.        ,  0.        ,\n",
       "         0.        ,  0.        ,  0.        ,  0.        ,  0.        ,\n",
       "         0.        ,  0.        ,  0.        ,  0.        ,  0.        ,\n",
       "         0.        ,  0.        ,  0.        ,  0.        ,  0.        ,\n",
       "         0.        ,  0.        ,  0.        ,  0.        ,  0.        ,\n",
       "         0.        ,  0.        ,  0.        ,  0.        ,  0.        ]])"
      ]
     },
     "execution_count": 24,
     "metadata": {},
     "output_type": "execute_result"
    }
   ],
   "source": [
    "dat2['cancer_volume'][:4]"
   ]
  },
  {
   "cell_type": "code",
   "execution_count": 82,
   "metadata": {},
   "outputs": [
    {
     "data": {
      "text/plain": [
       "Text(0.5, 1.0, '4 first timepoints that will be tested for patient 1')"
      ]
     },
     "execution_count": 82,
     "metadata": {},
     "output_type": "execute_result"
    },
    {
     "data": {
      "image/png": "[encoded data removed]",
      "text/plain": [
       "<Figure size 432x288 with 1 Axes>"
      ]
     },
     "metadata": {
      "needs_background": "light"
     },
     "output_type": "display_data"
    }
   ],
   "source": [
    "# plot the cancer volume of the first 4 patients\n",
    "import matplotlib.pyplot as plt\n",
    "d = dat2['cancer_volume'][:4, :2]\n",
    "plt.plot(d.T)\n",
    "plt.xlabel('Timestep')\n",
    "plt.ylabel('Cancer Volume')\n",
    "plt.title('4 first timepoints that will be tested for patient 1')"
   ]
  },
  {
   "cell_type": "code",
   "execution_count": 72,
   "metadata": {},
   "outputs": [
    {
     "name": "stdout",
     "output_type": "stream",
     "text": [
      "[[1.60319809e+01 1.45142700e+01 0.00000000e+00 ... 0.00000000e+00\n",
      "  0.00000000e+00 0.00000000e+00]\n",
      " [1.60319809e+01 1.69308179e+01 0.00000000e+00 ... 0.00000000e+00\n",
      "  0.00000000e+00 0.00000000e+00]\n",
      " [1.60319809e+01 8.83593895e+00 0.00000000e+00 ... 0.00000000e+00\n",
      "  0.00000000e+00 0.00000000e+00]\n",
      " ...\n",
      " [1.60319809e+01 1.45142700e+01 1.43629476e+01 ... 8.88901692e-04\n",
      "  1.00101888e-03 1.11913398e-03]\n",
      " [1.60319809e+01 1.45142700e+01 1.43629476e+01 ... 8.88901692e-04\n",
      "  1.00101888e-03 6.13698829e-04]\n",
      " [1.60319809e+01 1.45142700e+01 1.43629476e+01 ... 8.88901692e-04\n",
      "  1.00101888e-03 4.62812294e-04]]\n"
     ]
    }
   ],
   "source": [
    "print(dat2['cancer_volume'][:60*4 - 4])\n"
   ]
  },
  {
   "cell_type": "code",
   "execution_count": null,
   "metadata": {},
   "outputs": [],
   "source": []
  }
 ],
 "metadata": {
  "kernelspec": {
   "display_name": "RA",
   "language": "python",
   "name": "python3"
  },
  "language_info": {
   "codemirror_mode": {
    "name": "ipython",
    "version": 3
   },
   "file_extension": ".py",
   "mimetype": "text/x-python",
   "name": "python",
   "nbconvert_exporter": "python",
   "pygments_lexer": "ipython3",
   "version": "3.6.13"
  }
 },
 "nbformat": 4,
 "nbformat_minor": 2
}

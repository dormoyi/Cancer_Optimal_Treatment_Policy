{
 "cells": [
  {
   "cell_type": "markdown",
   "metadata": {},
   "source": [
    "- avoir ces 3 baselines qui marchent\n",
    "- faire le bench pour les 2 autres papiers\n",
    "- réfléchir à intégrer des éléments du cours (au moins insister sur IPTW?) -> évaluer efficacité des traintements"
   ]
  },
  {
   "cell_type": "code",
   "execution_count": 2,
   "metadata": {},
   "outputs": [],
   "source": [
    "import pickle\n",
    "import os\n",
    "import numpy as np\n",
    "import pandas as pd\n",
    "\n",
    "# Assuming the script is located in the same directory as the 'results' folder\n",
    "folder_path = os.path.join('Counterfactual-Recurrent-Network-master', 'results')\n",
    "file_name = 'new_cancer_sim_2_2.p'\n",
    "\n",
    "path = os.path.join(folder_path, file_name)\n",
    "\n",
    "with open(path, 'rb') as f:\n",
    "    results = pickle.load(f)"
   ]
  },
  {
   "cell_type": "code",
   "execution_count": 3,
   "metadata": {},
   "outputs": [
    {
     "data": {
      "text/plain": [
       "dict_keys(['chemo_coeff', 'radio_coeff', 'num_time_steps', 'training_data', 'validation_data', 'test_data', 'test_data_factuals', 'test_data_seq', 'scaling_data', 'window_size'])"
      ]
     },
     "execution_count": 3,
     "metadata": {},
     "output_type": "execute_result"
    }
   ],
   "source": [
    "results.keys()"
   ]
  },
  {
   "cell_type": "code",
   "execution_count": 4,
   "metadata": {},
   "outputs": [
    {
     "data": {
      "text/plain": [
       "(1000, 60)"
      ]
     },
     "execution_count": 4,
     "metadata": {},
     "output_type": "execute_result"
    }
   ],
   "source": [
    "results['test_data_factuals']['chemo_dosage'].shape"
   ]
  },
  {
   "cell_type": "code",
   "execution_count": 5,
   "metadata": {},
   "outputs": [
    {
     "data": {
      "text/plain": [
       "dict_keys(['cancer_volume', 'chemo_dosage', 'radio_dosage', 'chemo_application', 'radio_application', 'chemo_probabilities', 'radio_probabilities', 'sequence_lengths', 'patient_types'])"
      ]
     },
     "execution_count": 5,
     "metadata": {},
     "output_type": "execute_result"
    }
   ],
   "source": [
    "results['training_data'].keys()"
   ]
  },
  {
   "cell_type": "code",
   "execution_count": 6,
   "metadata": {},
   "outputs": [
    {
     "name": "stdout",
     "output_type": "stream",
     "text": [
      "(10000, 60)\n",
      "(10000, 60)\n",
      "(10000, 60)\n",
      "(10000,)\n"
     ]
    }
   ],
   "source": [
    "cancer_volume = results['training_data']['cancer_volume']\n",
    "print(cancer_volume.shape)\n",
    "chemo_dosage = results['training_data']['chemo_dosage']\n",
    "print(chemo_dosage.shape)\n",
    "radiation_dosage = results['training_data']['radio_dosage']\n",
    "print(radiation_dosage.shape)\n",
    "patient_type = results['training_data']['patient_types']\n",
    "print(patient_type.shape)"
   ]
  },
  {
   "cell_type": "markdown",
   "metadata": {},
   "source": [
    "# Random Forest"
   ]
  },
  {
   "cell_type": "markdown",
   "metadata": {},
   "source": [
    "### Model creation and training"
   ]
  },
  {
   "cell_type": "code",
   "execution_count": 7,
   "metadata": {},
   "outputs": [],
   "source": [
    "# # preprocess each one of the series and concatenate those to the global dataframe\n",
    "\n",
    "# data_train = pd.DataFrame(columns=['cancer_volume', 'chemo_dosage', 'radio_dosage', 'patient_type'])\n",
    "\n",
    "# for i in range(cancer_volume.shape[0]):\n",
    "#     sub_df = pd.DataFrame(columns=['cancer_volume', 'chemo_dosage', 'radio_dosage', 'patient_type'])\n",
    "#     sub_df['cancer_volume'] = cancer_volume[i]\n",
    "#     sub_df['chemo_dosage'] = chemo_dosage[i]\n",
    "#     sub_df['radio_dosage'] = radiation_dosage[i]\n",
    "#     sub_df['patient_type'] = patient_type[i]\n",
    "#     sub_df['cancer_lag_1'] = sub_df['cancer_volume'].shift(1)\n",
    "#     sub_df.dropna(inplace=True)\n",
    "#     data_train = data_train.append(sub_df)\n",
    "\n",
    "# data_test = pd.DataFrame(columns=['cancer_volume', 'chemo_dosage', 'radio_dosage', 'patient_type'])\n",
    "\n",
    "# for i in range(results['test_data_factuals']['cancer_volume'].shape[0]):\n",
    "#     sub_df = pd.DataFrame(columns=['cancer_volume', 'chemo_dosage', 'radio_dosage', 'patient_type'])\n",
    "#     sub_df['cancer_volume'] = results['test_data_factuals']['cancer_volume'][i]\n",
    "#     sub_df['chemo_dosage'] = results['test_data_factuals']['chemo_dosage'][i]\n",
    "#     sub_df['radio_dosage'] = results['test_data_factuals']['radio_dosage'][i]\n",
    "#     sub_df['patient_type'] = results['test_data_factuals']['patient_types'][i]\n",
    "#     sub_df['cancer_lag_1'] = sub_df['cancer_volume'].shift(1)\n",
    "#     sub_df.dropna(inplace=True)\n",
    "#     data_test = data_test.append(sub_df)\n",
    "\n",
    "# data_train.to_csv('data_train.csv', index=False)\n",
    "# data_test.to_csv('data_test.csv', index=False)\n"
   ]
  },
  {
   "cell_type": "code",
   "execution_count": 8,
   "metadata": {},
   "outputs": [],
   "source": [
    "data_train = pd.read_csv('data_train.csv')\n",
    "data_test = pd.read_csv('data_test.csv')"
   ]
  },
  {
   "cell_type": "code",
   "execution_count": null,
   "metadata": {},
   "outputs": [],
   "source": [
    "import pandas as pd\n",
    "from sklearn.ensemble import RandomForestRegressor\n",
    "from sklearn.model_selection import train_test_split\n",
    "from sklearn.metrics import mean_squared_error\n",
    "import matplotlib.pyplot as plt\n",
    "\n",
    "lags = 1\n",
    "\n",
    "# Define features and target variable\n",
    "features = ['chemo_dosage', 'radio_dosage'] + [f'cancer_lag_{i}' for i in range(1, lags + 1)]\n",
    "target = 'cancer_volume'\n",
    "\n",
    "X_train, y_train = data_train[features], data_train[target]\n",
    "X_test, y_test = data_test[features], data_test[target]\n",
    "\n",
    "# Create and train the RandomForestRegressor\n",
    "rf_model = RandomForestRegressor(n_estimators=100, random_state=42)\n",
    "rf_model.fit(X_train, y_train)\n",
    "\n",
    "# Predict the next values using the test set\n",
    "y_pred = rf_model.predict(X_test)\n",
    "\n",
    "# Calculate Mean Squared Error\n",
    "mse = mean_squared_error(y_test, y_pred)\n",
    "print(f'Mean Squared Error: {mse}')\n",
    "\n",
    "# Plot the results\n",
    "plt.figure(figsize=(12, 6))\n",
    "plt.plot(y_test[:120], label='Test')\n",
    "plt.plot(y_pred[:120], label='Predicted')\n",
    "plt.legend()\n",
    "plt.show()\n"
   ]
  },
  {
   "cell_type": "markdown",
   "metadata": {},
   "source": [
    "### Accuracy benchmarking for counterfactuals simulation"
   ]
  },
  {
   "cell_type": "code",
   "execution_count": null,
   "metadata": {},
   "outputs": [],
   "source": [
    "# TODO: add counterfactuals benchmaring"
   ]
  },
  {
   "cell_type": "markdown",
   "metadata": {},
   "source": [
    "# LSTM"
   ]
  },
  {
   "cell_type": "code",
   "execution_count": 1,
   "metadata": {},
   "outputs": [
    {
     "ename": "NameError",
     "evalue": "name 'results' is not defined",
     "output_type": "error",
     "traceback": [
      "\u001b[0;31m---------------------------------------------------------------------------\u001b[0m",
      "\u001b[0;31mNameError\u001b[0m                                 Traceback (most recent call last)",
      "\u001b[0;32m/tmp/ipykernel_237219/1489089594.py\u001b[0m in \u001b[0;36m<module>\u001b[0;34m\u001b[0m\n\u001b[1;32m      5\u001b[0m \u001b[0;34m\u001b[0m\u001b[0m\n\u001b[1;32m      6\u001b[0m \u001b[0;31m# Assuming you have already processed your data into tensors\u001b[0m\u001b[0;34m\u001b[0m\u001b[0;34m\u001b[0m\u001b[0;34m\u001b[0m\u001b[0m\n\u001b[0;32m----> 7\u001b[0;31m \u001b[0mcancer_volume\u001b[0m \u001b[0;34m=\u001b[0m \u001b[0mresults\u001b[0m\u001b[0;34m[\u001b[0m\u001b[0;34m'training_data'\u001b[0m\u001b[0;34m]\u001b[0m\u001b[0;34m[\u001b[0m\u001b[0;34m'cancer_volume'\u001b[0m\u001b[0;34m]\u001b[0m\u001b[0;34m\u001b[0m\u001b[0;34m\u001b[0m\u001b[0m\n\u001b[0m\u001b[1;32m      8\u001b[0m \u001b[0mchemo_dosage\u001b[0m \u001b[0;34m=\u001b[0m \u001b[0mresults\u001b[0m\u001b[0;34m[\u001b[0m\u001b[0;34m'training_data'\u001b[0m\u001b[0;34m]\u001b[0m\u001b[0;34m[\u001b[0m\u001b[0;34m'chemo_dosage'\u001b[0m\u001b[0;34m]\u001b[0m\u001b[0;34m\u001b[0m\u001b[0;34m\u001b[0m\u001b[0m\n\u001b[1;32m      9\u001b[0m \u001b[0mradiation_dosage\u001b[0m \u001b[0;34m=\u001b[0m \u001b[0mresults\u001b[0m\u001b[0;34m[\u001b[0m\u001b[0;34m'training_data'\u001b[0m\u001b[0;34m]\u001b[0m\u001b[0;34m[\u001b[0m\u001b[0;34m'radio_dosage'\u001b[0m\u001b[0;34m]\u001b[0m\u001b[0;34m\u001b[0m\u001b[0;34m\u001b[0m\u001b[0m\n",
      "\u001b[0;31mNameError\u001b[0m: name 'results' is not defined"
     ]
    }
   ],
   "source": [
    "import torch\n",
    "import torch.nn as nn\n",
    "import torch.optim as optim\n",
    "from torch.utils.data import DataLoader, TensorDataset\n",
    "\n",
    "# Assuming you have already processed your data into tensors\n",
    "cancer_volume = results['training_data']['cancer_volume']\n",
    "chemo_dosage = results['training_data']['chemo_dosage']\n",
    "radiation_dosage = results['training_data']['radio_dosage']\n",
    "patient_type = results['training_data']['patient_types']\n",
    "\n",
    "# Concatenate the covariates along the feature dimension\n",
    "covariates = torch.stack([chemo_dosage, radiation_dosage, patient_type], dim=2)\n",
    "\n",
    "# Combine all the data into a single tensor\n",
    "all_data = torch.stack([cancer_volume, covariates], dim=2)\n",
    "\n",
    "# Define the LSTM model\n",
    "class LSTMModel(nn.Module):\n",
    "    def __init__(self, input_size, hidden_size, num_layers, output_size):\n",
    "        super(LSTMModel, self).__init__()\n",
    "        self.lstm = nn.LSTM(input_size=input_size, hidden_size=hidden_size, num_layers=num_layers, batch_first=True)\n",
    "        self.fc = nn.Linear(hidden_size, output_size)\n",
    "\n",
    "    def forward(self, x):\n",
    "        lstm_out, _ = self.lstm(x)\n",
    "        output = self.fc(lstm_out[:, -1, :])  # Take the output from the last time step\n",
    "        return output\n",
    "\n",
    "# Set hyperparameters\n",
    "input_size = 4  # cancer_volume + chemo_dosage + radiation_dosage + patient_type\n",
    "hidden_size = 64\n",
    "num_layers = 2\n",
    "output_size = 1  # Predicting cancer_volume\n",
    "\n",
    "# Initialize the model, loss function, and optimizer\n",
    "model = LSTMModel(input_size, hidden_size, num_layers, output_size)\n",
    "criterion = nn.MSELoss()\n",
    "optimizer = optim.Adam(model.parameters(), lr=0.001)\n",
    "\n",
    "# Convert data to PyTorch tensors\n",
    "all_data = torch.FloatTensor(all_data)\n",
    "cancer_volume = torch.FloatTensor(cancer_volume)\n",
    "\n",
    "# Define the DataLoader\n",
    "dataset = TensorDataset(all_data, cancer_volume)\n",
    "dataloader = DataLoader(dataset, batch_size=64, shuffle=True)\n",
    "\n",
    "# Training loop\n",
    "losses = []\n",
    "num_epochs = 10\n",
    "for epoch in range(num_epochs):\n",
    "    for batch in dataloader:\n",
    "        inputs, labels = batch\n",
    "        optimizer.zero_grad()\n",
    "        outputs = model(inputs)\n",
    "        loss = criterion(outputs.squeeze(), labels)\n",
    "        loss.backward()\n",
    "        optimizer.step()\n",
    "\n",
    "    print(f'Epoch {epoch+1}/{num_epochs}, Loss: {loss.item()}')\n",
    "    losses.append(loss.item())\n"
   ]
  }
 ],
 "metadata": {
  "kernelspec": {
   "display_name": "cs224n",
   "language": "python",
   "name": "cs224n"
  },
  "language_info": {
   "codemirror_mode": {
    "name": "ipython",
    "version": 3
   },
   "file_extension": ".py",
   "mimetype": "text/x-python",
   "name": "python",
   "nbconvert_exporter": "python",
   "pygments_lexer": "ipython3",
   "version": "3.7.15"
  }
 },
 "nbformat": 4,
 "nbformat_minor": 2
}
